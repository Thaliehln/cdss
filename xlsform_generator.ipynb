{
 "cells": [
  {
   "cell_type": "code",
   "execution_count": 1,
   "metadata": {
    "scrolled": true
   },
   "outputs": [],
   "source": [
    "import pandas as pd\n",
    "import os\n",
    "import hashlib\n",
    "import xls_form_generator as xfg\n",
    "import clinical_objects as cobj\n",
    "import clinical_algorithm as calgo\n",
    "import calculations as calc"
   ]
  },
  {
   "cell_type": "markdown",
   "metadata": {},
   "source": [
    "<h1><span style=\"color:#495d83\">Initialise the ODK XLSForm</span></h1>"
   ]
  },
  {
   "cell_type": "code",
   "execution_count": 2,
   "metadata": {},
   "outputs": [],
   "source": [
    "path = \"XLSForm_test.xlsx\"\n",
    "form_title = \"ePoct+\"\n",
    "form_id = \"epoct\"\n",
    "languages = [\"English (en)\", \"French (fr)\", \"Swahili (sw)\"]\n",
    "def_language = \"English\"\n",
    "version = \"0.1\""
   ]
  },
  {
   "cell_type": "code",
   "execution_count": 3,
   "metadata": {},
   "outputs": [],
   "source": [
    "ms = calgo.ClinicalAlgorithm()\n",
    "ms.initODKExport(form_title, form_id, version, languages, def_language)\n",
    "titles = [\n",
    "    {\"label\":\"Tools for Integrated Management of Childhood Illnesses\", \"level\":1, \"color\":\"#cae3ee\"},\n",
    "    {\"label\":\"Clinical Decision Support Algorithm\", \"level\":2, \"color\":\"#495d83\"}\n",
    "]\n",
    "ms.addWelcomeScreen(titles)"
   ]
  },
  {
   "cell_type": "markdown",
   "metadata": {},
   "source": [
    "# Define variables"
   ]
  },
  {
   "cell_type": "markdown",
   "metadata": {},
   "source": [
    "## Multiple answer choices"
   ]
  },
  {
   "cell_type": "code",
   "execution_count": 4,
   "metadata": {},
   "outputs": [],
   "source": [
    "choices = {\n",
    "    \"NB_OF_CONVULSIONS\":[\"1 convulsion\",\"2 or more convulsions\"],\n",
    "    \"PALMAR_PALLOR\":[\"None\", \"Some\", \"Severe\"]}\n",
    "ms.addAnswers(choices)"
   ]
  },
  {
   "cell_type": "markdown",
   "metadata": {},
   "source": [
    "## Questions"
   ]
  },
  {
   "cell_type": "markdown",
   "metadata": {},
   "source": [
    "### Registration questions"
   ]
  },
  {
   "cell_type": "code",
   "execution_count": 5,
   "metadata": {},
   "outputs": [],
   "source": [
    "ms.addRegistrationQuestions()"
   ]
  },
  {
   "cell_type": "markdown",
   "metadata": {},
   "source": [
    "### Symptoms"
   ]
  },
  {
   "cell_type": "code",
   "execution_count": 6,
   "metadata": {},
   "outputs": [],
   "source": [
    "t = \"symptom\"\n",
    "symptoms = [\n",
    "    {\"label\":\"History of convulsions\", \"type\":t, \"asw_lbl\":\"YESNO\"},\n",
    "    {\"label\":\"Number of convulsions\", \"type\":t, \"asw_lbl\":\"NB_OF_CONVULSIONS\"},\n",
    "    {\"label\":\"Cough\", \"type\":t, \"asw_lbl\":\"YESNO\"},\n",
    "    {\"label\":\"Difficulty breathing\", \"type\":t, \"asw_lbl\":\"YESNO\"},\n",
    "    {\"label\":\"History of fever\", \"type\":t, \"asw_lbl\":\"YESNO\"},\n",
    "    {\"label\":\"Diarrhoea\", \"type\":t, \"asw_lbl\":\"YESNO\"},\n",
    "    {\"label\":\"Runny nose\", \"type\":t, \"asw_lbl\":\"YESNO\"},\n",
    "    {\"label\":\"Ear problem\", \"type\":t, \"asw_lbl\":\"YESNO\"}\n",
    "]\n",
    "ms.addQuestions(symptoms)"
   ]
  },
  {
   "cell_type": "markdown",
   "metadata": {},
   "source": [
    "### Observed signs"
   ]
  },
  {
   "cell_type": "code",
   "execution_count": 7,
   "metadata": {},
   "outputs": [],
   "source": [
    "t = \"observed sign\"\n",
    "observed_signs = [\n",
    "    {\"label\":\"Unconscious\", \"type\":t, \"asw_lbl\":\"YESNO\"},\n",
    "    {\"label\":\"Lethargic\", \"type\":t, \"asw_lbl\":\"YESNO\"},\n",
    "    {\"label\":\"Convulsing now\", \"type\":t, \"asw_lbl\":\"YESNO\"},\n",
    "    {\"label\":\"Significant haemoptysis\", \"type\":t, \"asw_lbl\":\"YESNO_NA\", \"default\":2},\n",
    "    {\"label\":\"Possible inhalation / swallowing of foreign object\", \"type\":t, \"asw_lbl\":\"YESNO_NA\", \"default\":2},\n",
    "    {\"label\":\"Barking cough\", \"type\":t, \"asw_lbl\":\"YESNO_NA\", \"default\":2},\n",
    "    {\"label\":\"Grunting\", \"type\":t, \"asw_lbl\":\"YESNO_NA\", \"default\":2},\n",
    "    {\"label\":\"Central cyanosis\", \"type\":t, \"asw_lbl\":\"YESNO_NA\", \"default\":2},\n",
    "    {\"label\":\"Wheeze\", \"type\":t, \"asw_lbl\":\"YESNO_NA\", \"default\":2},\n",
    "    {\"label\":\"Stridor\", \"type\":t, \"asw_lbl\":\"YESNO_NA\", \"default\":2},\n",
    "    {\"label\":\"Stridor at rest\", \"type\":t, \"asw_lbl\":\"YESNO_NA\", \"default\":2},\n",
    "    {\"label\":\"Lower chest indrawing\", \"type\":t, \"asw_lbl\":\"YESNO_NA\", \"default\":2},\n",
    "    {\"label\":\"Mouth lesion\", \"type\":t, \"asw_lbl\":\"YESNO_NA\", \"default\":2},\n",
    "    {\"label\":\"Epistaxis\", \"type\":t, \"asw_lbl\":\"YESNO_NA\", \"default\":2},\n",
    "    {\"label\":\"Unable to talk /complete sentences\", \"type\":t, \"asw_lbl\":\"YESNO_NA\", \"default\":2}\n",
    "]\n",
    "ms.addQuestions(observed_signs)"
   ]
  },
  {
   "cell_type": "markdown",
   "metadata": {},
   "source": [
    "### Time duration"
   ]
  },
  {
   "cell_type": "code",
   "execution_count": 8,
   "metadata": {},
   "outputs": [],
   "source": [
    "t = \"time duration\"\n",
    "tduration = [\n",
    "    {\"label\":\"Number of days since onset of respiratory symptoms\", \"type\":t, \"unit\":\"days\",\"constr\":[1,20]},\n",
    "    {\"label\":\"Duration of fever\", \"type\":t, \"unit\":\"days\",\"constr\":[1,20]}\n",
    "]\n",
    "ms.addQuestions(tduration)"
   ]
  },
  {
   "cell_type": "markdown",
   "metadata": {},
   "source": [
    "### Quantities"
   ]
  },
  {
   "cell_type": "code",
   "execution_count": 9,
   "metadata": {},
   "outputs": [],
   "source": [
    "t = \"quantity\"\n",
    "quantity = [\n",
    "    {\"label\":\"Number of loose or liquid stools over the last 24 hours\", \"type\":t, \"unit\":\"\",\"constr\":[1,5]}\n",
    "]\n",
    "ms.addQuestions(quantity)"
   ]
  },
  {
   "cell_type": "markdown",
   "metadata": {},
   "source": [
    "### Measurements"
   ]
  },
  {
   "cell_type": "code",
   "execution_count": 10,
   "metadata": {},
   "outputs": [],
   "source": [
    "t = \"measurement\"\n",
    "measurements = [\n",
    "    {\n",
    "        \"label\":\"Temperature\",\n",
    "        \"odk_type\":\"range\",\n",
    "        \"type\":t,\n",
    "        \"unit\":\"degree Celsius (°C)\",\n",
    "        \"parameters\":[34,42,0.5]},\n",
    "    {\n",
    "        \"label\":\"Weight\",\n",
    "        \"odk_type\":\"integer\",\n",
    "        \"type\":t,\n",
    "        \"unit\":\"kg\",\n",
    "        \"constr\":[0,60]},\n",
    "    {\n",
    "        \"label\":\"Respiratory rate\",\n",
    "        \"odk_type\":\"integer\",\n",
    "        \"type\":t,\n",
    "        \"unit\":\"beats / minutes\",\n",
    "        \"constr\":[0,100]},\n",
    "    {\n",
    "        \"label\":\"SpO2\",\n",
    "        \"odk_type\":\"integer\",\n",
    "        \"type\":t,\n",
    "        \"unit\":\"%\",\n",
    "        \"constr\":[80,100]},\n",
    "    {\n",
    "        \"label\":\"Pulse rate\",\n",
    "        \"odk_type\":\"integer\",\n",
    "        \"type\":t,\n",
    "        \"unit\":\"beats / minutes\",\n",
    "        \"constr\":[40,200]}\n",
    "]\n",
    "ms.addQuestions(measurements)"
   ]
  },
  {
   "cell_type": "markdown",
   "metadata": {},
   "source": [
    "### Calculated variables"
   ]
  },
  {
   "cell_type": "code",
   "execution_count": 11,
   "metadata": {},
   "outputs": [],
   "source": [
    "t = \"boolean\"\n",
    "boolean = [\n",
    "    {\"label\":\"Young infant\",\n",
    "     \"type\":t,\n",
    "     \"condition_list\":[\n",
    "         {'cond':calc.InfEqual2ThresCond(ms.getQuestions().getItem(\"Calculated age in months\"), 2).get()}],\n",
    "     \"istrue\":1,\n",
    "     \"isfalse\":0}\n",
    "]\n",
    "ms.addQuestions(boolean)\n",
    "\n",
    "boolean = [\n",
    "    {\"label\":\"Fever\",\n",
    "     \"type\":t,\n",
    "     \"condition_list\":[\n",
    "         {'cond':calc.SupEqual2ThresCond(ms.getQuestions().getItem(\"Temperature\"), 38).get()},\n",
    "         {'cond':calc.EqualAnswerCond(ms.getQuestions().getItem(\"History of fever\"), \"Yes\").get(),'logic':\"or\", 'group':0}\n",
    "     ],\n",
    "     \"istrue\":1,\n",
    "     \"isfalse\":0},\n",
    "]\n",
    "ms.addQuestions(boolean)\n",
    "\n",
    "booleans = [\n",
    "    {\"type\":\"boolean\",\n",
    "     \"label\":\"Hypoxaemia\",\n",
    "     \"condition_list\":[\n",
    "         {'cond':calc.Inf2ThresCond(ms.getQuestions().getItem(\"SpO2\"), 90).get()}],\n",
    "     \"istrue\":1,\n",
    "     \"isfalse\":0},\n",
    "    {\"type\":\"boolean\",\n",
    "     \"label\":\"Respiratory symptoms < 2 weeks\",\n",
    "     \"condition_list\":[\n",
    "         {'cond':calc.InfEqual2ThresCond(ms.getQuestions().getItem(\"Number of days since onset of respiratory symptoms\"), 14).get()}],\n",
    "     \"istrue\":1,\n",
    "     \"isfalse\":0},\n",
    "    {\"type\":\"boolean\",\n",
    "     \"label\":\"Fast breathing\",\n",
    "     \"condition_list\":[\n",
    "         {'cond':calc.SupEqual2ThresCond(ms.getQuestions().getItem(\"Respiratory rate\"), 50).get()},\n",
    "         {'cond':calc.Sup2ThresCond(ms.getQuestions().getItem(\"Calculated age in months\"), 2).get(), \"logic\": \"and\", \"group\":0},\n",
    "         {'cond':calc.Inf2ThresCond(ms.getQuestions().getItem(\"Calculated age in months\"), 12).get(), \"logic\": \"and\", \"group\":0},\n",
    "         {'cond':calc.SupEqual2ThresCond(ms.getQuestions().getItem(\"Respiratory rate\"), 40).get(), \"logic\": \"or\", \"group\":1},\n",
    "         {'cond':calc.SupEqual2ThresCond(ms.getQuestions().getItem(\"Calculated age in months\"), 12).get(), \"logic\": \"and\", \"group\":1}],\n",
    "     \"istrue\":1,\n",
    "     \"isfalse\":0},\n",
    "    {\"type\":\"boolean\",\n",
    "     \"label\":\"Fast pulse rate\",\n",
    "     \"condition_list\":[\n",
    "         {'cond':calc.Sup2ThresCond(ms.getQuestions().getItem(\"Pulse rate\"), 180).get()},\n",
    "         {'cond':calc.Sup2ThresCond(ms.getQuestions().getItem(\"Calculated age in months\"), 36).get(), \"logic\": \"and\", \"group\":0},\n",
    "         {'cond':calc.Sup2ThresCond(ms.getQuestions().getItem(\"Pulse rate\"), 200).get(), \"logic\": \"or\", \"group\":1},\n",
    "         {'cond':calc.InfEqual2ThresCond(ms.getQuestions().getItem(\"Calculated age in months\"), 36).get(), \"logic\": \"and\", \"group\":1}],\n",
    "     \"istrue\":1,\n",
    "     \"isfalse\":0},\n",
    "]\n",
    "ms.addQuestions(booleans)"
   ]
  },
  {
   "cell_type": "markdown",
   "metadata": {},
   "source": [
    "## Diagnoses"
   ]
  },
  {
   "cell_type": "markdown",
   "metadata": {},
   "source": [
    "### Severe diagnoses"
   ]
  },
  {
   "cell_type": "code",
   "execution_count": 12,
   "metadata": {},
   "outputs": [],
   "source": [
    "severe_diagnoses = [\n",
    "    \"Danger signs\",\n",
    "    \"Severe acute malnutrition\", \n",
    "    \"Complicated severe acute malnutrition\",\n",
    "    \"Suspicion of meningitis\",\n",
    "    \"Mastoiditis\",\n",
    "    \"Severe pneumonia or very severe disease\",\n",
    "    \"Possible severe asthma\",\n",
    "    \"Suspicion of foreign object in airways\",\n",
    "    \"Severe croup\"\n",
    "]\n",
    "ms.addDiagnoses(severe_diagnoses, \"severe\")"
   ]
  },
  {
   "cell_type": "markdown",
   "metadata": {},
   "source": [
    "### Moderate diagnoses"
   ]
  },
  {
   "cell_type": "code",
   "execution_count": 13,
   "metadata": {},
   "outputs": [],
   "source": [
    "moderate_diagnoses = [\n",
    "    \"Complicated acute ear infection\",\n",
    "    \"Complicated chronic ear infection\",\n",
    "    \"Malaria\",\n",
    "    \"Possible malaria\",\n",
    "    \"Disentery\",\n",
    "    \"Moderate malnutrition\",\n",
    "    \"Pneumonia\",\n",
    "    \"Possible moderate asthma\",\n",
    "    \"Mild croup\",\n",
    "    \"Hemoptysis\"\n",
    "]\n",
    "ms.addDiagnoses(moderate_diagnoses, \"moderate\")"
   ]
  },
  {
   "cell_type": "markdown",
   "metadata": {},
   "source": [
    "### Mild diagnoses"
   ]
  },
  {
   "cell_type": "code",
   "execution_count": 14,
   "metadata": {},
   "outputs": [],
   "source": [
    "mild_diagnoses = [\n",
    "    \"Uncomplicated acute ear infection\",\n",
    "    \"Chronic ear infection\",\n",
    "    \"Acute diarrhoea\",\n",
    "    \"Constipation\",\n",
    "    \"Contusion\",\n",
    "    \"Foreign body in ear\",\n",
    "    \"Cough / cold\",\n",
    "    \"Possible mild asthma\"\n",
    "]\n",
    "ms.addDiagnoses(mild_diagnoses, \"mild\")"
   ]
  },
  {
   "cell_type": "markdown",
   "metadata": {},
   "source": [
    "### Other diagnoses"
   ]
  },
  {
   "cell_type": "code",
   "execution_count": 15,
   "metadata": {},
   "outputs": [],
   "source": [
    "other_diagnoses = [\n",
    "    \"Suspicion of tuberculosis\",\n",
    "]\n",
    "ms.addDiagnoses(other_diagnoses, \"other\")"
   ]
  },
  {
   "cell_type": "markdown",
   "metadata": {},
   "source": [
    "## Managements"
   ]
  },
  {
   "cell_type": "code",
   "execution_count": 16,
   "metadata": {},
   "outputs": [],
   "source": [
    "managements = [\n",
    "    \"Urgent referral\",\n",
    "    \"Non-urgent referral\",\n",
    "    \"Admission / referral IF\",\n",
    "    \"First line treatment\",\n",
    "    \"Second line treatment\",\n",
    "]\n",
    "ms.addManagements(managements)"
   ]
  },
  {
   "cell_type": "markdown",
   "metadata": {},
   "source": [
    "## Treatments"
   ]
  },
  {
   "cell_type": "code",
   "execution_count": 17,
   "metadata": {},
   "outputs": [],
   "source": [
    "treatments = [\n",
    "    \"Oxygen\",\n",
    "    \"Treat for / prevent low blood sugar\",\n",
    "    \"Keep warm\",\n",
    "    \"Avoid agitation\",\n",
    "    \"Rapid acting bronchodilator\",\n",
    "    \"Soothe throat / relieve cough\",\n",
    "    \"Return advice\"\n",
    "]\n",
    "ms.addTreatments(treatments)"
   ]
  },
  {
   "cell_type": "markdown",
   "metadata": {},
   "source": [
    "### Drugs"
   ]
  },
  {
   "cell_type": "code",
   "execution_count": 18,
   "metadata": {},
   "outputs": [],
   "source": [
    "drugs = [\n",
    "    \"Benzylpenicillin\",\n",
    "    \"Gentamicin\",\n",
    "    \"Amoxicillin DT\",\n",
    "    \"Prednisolone\",\n",
    "    \"Vitamin A\"\n",
    "]\n",
    "ms.addTreatments(drugs)"
   ]
  },
  {
   "cell_type": "markdown",
   "metadata": {},
   "source": [
    "# Create modules"
   ]
  },
  {
   "cell_type": "markdown",
   "metadata": {},
   "source": [
    "## Registration module"
   ]
  },
  {
   "cell_type": "code",
   "execution_count": 19,
   "metadata": {},
   "outputs": [],
   "source": [
    "ms.addRegistrationModule(\"Registration\")"
   ]
  },
  {
   "cell_type": "markdown",
   "metadata": {},
   "source": [
    "## First look assessment module"
   ]
  },
  {
   "cell_type": "markdown",
   "metadata": {},
   "source": [
    "### Danger signs"
   ]
  },
  {
   "cell_type": "code",
   "execution_count": 20,
   "metadata": {},
   "outputs": [],
   "source": [
    "danger_sign_table_questions = [\n",
    "    \"Unconscious\",\n",
    "    \"Lethargic\",\n",
    "    \"Convulsing now\",\n",
    "    \"History of convulsions\"\n",
    "]\n",
    "danger_sign_other_questions = [\n",
    "    \"Number of convulsions\"\n",
    "]"
   ]
  },
  {
   "cell_type": "code",
   "execution_count": 21,
   "metadata": {},
   "outputs": [],
   "source": [
    "mname = \"First look assessment\"\n",
    "ms.addModule(mname, ms.getHeader()[\"Registration\"])\n",
    "\n",
    "smname = \"Danger signs\"\n",
    "ms.addTableSubModule(smname, mname)\n",
    "for k in danger_sign_table_questions:\n",
    "    ms.getSubModule(smname).addQuestion(k)\n",
    "    \n",
    "smname = \"Other danger signs\"\n",
    "ms.addSubModule(smname, mname)\n",
    "for k in danger_sign_other_questions:\n",
    "    ms.getSubModule(smname).addQuestion(k)"
   ]
  },
  {
   "cell_type": "code",
   "execution_count": 22,
   "metadata": {},
   "outputs": [],
   "source": [
    "top_conditions = [\n",
    "    {\n",
    "        \"child\":\"History of convulsions\",\n",
    "        \"parent\":\"Convulsing now\",\n",
    "        \"answer\":\"No\"},\n",
    "    {\n",
    "        \"child\":\"Number of convulsions\",\n",
    "        \"parent\":\"History of convulsions\",\n",
    "        \"answer\":\"Yes\"}\n",
    "]\n",
    "ms.addQuestionTopConditions(top_conditions)"
   ]
  },
  {
   "cell_type": "markdown",
   "metadata": {},
   "source": [
    "### Main symptoms"
   ]
  },
  {
   "cell_type": "code",
   "execution_count": 23,
   "metadata": {},
   "outputs": [],
   "source": [
    "main_symptom_questions = [\n",
    "    \"Cough\",\n",
    "    \"Difficulty breathing\",\n",
    "    \"Number of days since onset of respiratory symptoms\",\n",
    "    \"Diarrhoea\",\n",
    "    \"History of fever\",\n",
    "    \"Duration of fever\",\n",
    "    \"Ear problem\",\n",
    "    \"Runny nose\"\n",
    "]"
   ]
  },
  {
   "cell_type": "code",
   "execution_count": 24,
   "metadata": {},
   "outputs": [],
   "source": [
    "smname = \"Main symptoms\"\n",
    "ms.addTableSubModule(smname, mname)\n",
    "for k in main_symptom_questions:\n",
    "    ms.getSubModule(smname).addQuestion(k)"
   ]
  },
  {
   "cell_type": "code",
   "execution_count": 25,
   "metadata": {},
   "outputs": [],
   "source": [
    "top_conditions = [\n",
    "    {\n",
    "        \"child\":\"Number of days since onset of respiratory symptoms\",\n",
    "        \"parent\":\"Cough\",\n",
    "        \"answer\":\"Yes\"},\n",
    "    {\n",
    "        \"child\":\"Number of days since onset of respiratory symptoms\",\n",
    "        \"parent\":\"Difficulty breathing\",\n",
    "        \"answer\":\"Yes\"},\n",
    "    {\n",
    "        \"child\":\"Duration of fever\",\n",
    "        \"parent\":\"History of fever\",\n",
    "        \"answer\":\"Yes\"}\n",
    "]\n",
    "ms.addQuestionTopConditions(top_conditions)"
   ]
  },
  {
   "cell_type": "code",
   "execution_count": 26,
   "metadata": {},
   "outputs": [],
   "source": [
    "general_calculations = [\n",
    "    \"Fever\"\n",
    "]"
   ]
  },
  {
   "cell_type": "code",
   "execution_count": 27,
   "metadata": {},
   "outputs": [],
   "source": [
    "ms.getModule(mname).addCalculationSubModule()\n",
    "for k in general_calculations:\n",
    "    ms.getModule(mname).getCalculationSubModules()[-1].addQuestion(k)"
   ]
  },
  {
   "cell_type": "markdown",
   "metadata": {},
   "source": [
    "### Danger signs"
   ]
  },
  {
   "cell_type": "code",
   "execution_count": 28,
   "metadata": {},
   "outputs": [],
   "source": [
    "criteria = [\n",
    "    {\n",
    "        \"diagnosis\":\"Danger signs\",\n",
    "        \"criterion\":\"Unconscious\",\n",
    "        \"answer\":\"Yes\"},\n",
    "    {\n",
    "        \"diagnosis\":\"Danger signs\",\n",
    "        \"criterion\":\"Lethargic\",\n",
    "        \"answer\":\"Yes\",\n",
    "        \"logic\":\"or\",\n",
    "        \"group\":0},\n",
    "    {\n",
    "        \"diagnosis\":\"Danger signs\",\n",
    "        \"criterion\":\"Convulsing now\",\n",
    "        \"answer\":\"Yes\",\n",
    "        \"logic\":\"or\",\n",
    "        \"group\":1},\n",
    "    {\n",
    "        \"diagnosis\":\"Danger signs\",\n",
    "        \"criterion\":\"Number of convulsions\",\n",
    "        \"answer\":\"2 or more convulsions\",\n",
    "        \"logic\":\"or\",\n",
    "        \"group\":1}\n",
    "    \n",
    "]\n",
    "\n",
    "ms.addDiagnosisCriteria(mname, criteria)"
   ]
  },
  {
   "cell_type": "markdown",
   "metadata": {},
   "source": [
    "#### Possible malaria"
   ]
  },
  {
   "cell_type": "code",
   "execution_count": 29,
   "metadata": {},
   "outputs": [],
   "source": [
    "criteria = [\n",
    "    {\n",
    "        \"diagnosis\":\"Possible malaria\",\n",
    "        \"criterion\":\"Fever\",\n",
    "        \"answer\":1}\n",
    "]\n",
    "ms.addDiagnosisCriteria(mname, criteria)"
   ]
  },
  {
   "cell_type": "code",
   "execution_count": 30,
   "metadata": {},
   "outputs": [
    {
     "name": "stdout",
     "output_type": "stream",
     "text": [
      "Danger signs\n",
      "Possible malaria\n"
     ]
    }
   ],
   "source": [
    "general_calculations = [\n",
    "    \"Danger signs\",\n",
    "    \"Possible malaria\"\n",
    "]\n",
    "ms.getModule(mname).addDiagnosisCalculationSubModule()\n",
    "for k in general_calculations:\n",
    "    ms.getModule(mname).getCalculationSubModules()[-1].addQuestion(ms.getDiagnoses().getItem(k).getLabel())\n",
    "ms.getModule(mname).getCalculationSubModules()[-1].printQuestionList()"
   ]
  },
  {
   "cell_type": "markdown",
   "metadata": {},
   "source": [
    "## Basic measurement module"
   ]
  },
  {
   "cell_type": "code",
   "execution_count": 31,
   "metadata": {},
   "outputs": [],
   "source": [
    "basic_measurement_questions = [\n",
    "    \"Temperature\",\n",
    "    \"Weight\"\n",
    "]"
   ]
  },
  {
   "cell_type": "code",
   "execution_count": 32,
   "metadata": {},
   "outputs": [],
   "source": [
    "mname = \"Basic measurements\"\n",
    "ms.addModule(mname, ms.getHeader()[\"Registration\"])\n",
    "for k in basic_measurement_questions:\n",
    "    ms.getModule(mname).addQuestion(k)"
   ]
  },
  {
   "cell_type": "code",
   "execution_count": 33,
   "metadata": {},
   "outputs": [
    {
     "name": "stdout",
     "output_type": "stream",
     "text": [
      "CHeader\n"
     ]
    }
   ],
   "source": [
    "ms.addHeader()\n",
    "ms.getModule(mname).addCalculationSubModule()\n",
    "for k in [\"CHeader\"]:\n",
    "    ms.getModule(mname).getCalculationSubModules()[-1].addQuestion(k)\n",
    "ms.getModule(mname).getCalculationSubModules()[-1].printQuestionList()"
   ]
  },
  {
   "cell_type": "markdown",
   "metadata": {},
   "source": [
    "## Respiratory problem module"
   ]
  },
  {
   "cell_type": "code",
   "execution_count": 34,
   "metadata": {},
   "outputs": [],
   "source": [
    "respiratory_symptom_sign_questions = [\n",
    "    \"Significant haemoptysis\",\n",
    "    \"Possible inhalation / swallowing of foreign object\",\n",
    "    \"Stridor\",\n",
    "    \"Stridor at rest\",\n",
    "    \"Barking cough\",\n",
    "    \"Grunting\",\n",
    "    \"Central cyanosis\",\n",
    "    \"Wheeze\",\n",
    "    \"Unable to talk /complete sentences\"\n",
    "]\n",
    "\n",
    "respiratory_physical_exam_questions = [\n",
    "    \"Respiratory rate\",\n",
    "    \"Lower chest indrawing\",\n",
    "    \"SpO2\",\n",
    "    \"Pulse rate\"\n",
    "]"
   ]
  },
  {
   "cell_type": "code",
   "execution_count": 35,
   "metadata": {},
   "outputs": [],
   "source": [
    "mname = \"Respiratory problems\"\n",
    "ms.addModule(mname, ms.getHeader()[\"Consultation\"])\n",
    "smname = \"Symptoms and signs\"\n",
    "ms.addTableSubModule(smname, mname)\n",
    "for k in respiratory_symptom_sign_questions:\n",
    "    ms.getSubModule(smname).addQuestion(k)\n",
    "smname = \"Physical exam\"\n",
    "ms.addTableSubModule(smname, mname)\n",
    "for k in respiratory_physical_exam_questions:\n",
    "    ms.getSubModule(smname).addQuestion(k)"
   ]
  },
  {
   "cell_type": "code",
   "execution_count": 36,
   "metadata": {},
   "outputs": [],
   "source": [
    "top_conditions = [\n",
    "    {\n",
    "        \"child\":\"Respiratory problems\",\n",
    "        \"parent\":\"Cough\",\n",
    "        \"answer\":\"Yes\"},\n",
    "    {\n",
    "        \"child\":\"Respiratory problems\",\n",
    "        \"parent\":\"Difficulty breathing\",\n",
    "        \"answer\":\"Yes\"}\n",
    "    ]\n",
    "ms.addModuleTopConditions(top_conditions)\n",
    "\n",
    "top_conditions = [\n",
    "    {\n",
    "        \"child\":\"Respiratory problems\",\n",
    "        \"parent\":\"Danger signs\",\n",
    "        \"answer\":0,\n",
    "        \"logic\":\"and\",\n",
    "        \"group\":1}\n",
    "    ]\n",
    "ms.addModuleTopConditionDiagnoses(top_conditions)"
   ]
  },
  {
   "cell_type": "code",
   "execution_count": 37,
   "metadata": {},
   "outputs": [],
   "source": [
    "top_conditions = [\n",
    "    {\n",
    "        \"child\":\"Stridor at rest\",\n",
    "        \"parent\":\"Stridor\",\n",
    "        \"answer\":\"Yes\"},\n",
    "    {\n",
    "        \"child\":\"Mouth lesion\",\n",
    "        \"parent\":\"Significant haemoptysis\",\n",
    "        \"answer\":\"Yes\"},\n",
    "    {\n",
    "        \"child\":\"Epistaxis\",\n",
    "        \"parent\":\"Significant haemoptysis\",\n",
    "        \"answer\":\"Yes\"},\n",
    "    {\n",
    "        \"child\":\"Unable to talk /complete sentences\",\n",
    "        \"parent\":\"Wheeze\",\n",
    "        \"answer\":\"Yes\"},\n",
    "    {\n",
    "        \"child\":\"Pulse rate\",\n",
    "        \"parent\":\"Wheeze\",\n",
    "        \"answer\":\"Yes\"},\n",
    "    ]\n",
    "ms.addQuestionTopConditions(top_conditions)"
   ]
  },
  {
   "cell_type": "code",
   "execution_count": 38,
   "metadata": {},
   "outputs": [],
   "source": [
    "respiratory_calculations = [\n",
    "    \"Hypoxaemia\",\n",
    "    \"Respiratory symptoms < 2 weeks\",\n",
    "    \"Fast breathing\",\n",
    "    \"Fast pulse rate\"\n",
    "]"
   ]
  },
  {
   "cell_type": "code",
   "execution_count": 39,
   "metadata": {},
   "outputs": [],
   "source": [
    "ms.getModule(mname).addCalculationSubModule()\n",
    "for k in respiratory_calculations:\n",
    "    ms.getModule(mname).getCalculationSubModules()[-1].addQuestion(k)"
   ]
  },
  {
   "cell_type": "markdown",
   "metadata": {},
   "source": [
    "#### Severe pneumonia or very severe disease"
   ]
  },
  {
   "cell_type": "code",
   "execution_count": 40,
   "metadata": {},
   "outputs": [],
   "source": [
    "criteria = [\n",
    "    {\n",
    "        \"diagnosis\":\"Severe pneumonia or very severe disease\",\n",
    "        \"criterion\":\"Cough\",\n",
    "        \"answer\":\"Yes\"},\n",
    "    {\n",
    "        \"diagnosis\":\"Severe pneumonia or very severe disease\",\n",
    "        \"criterion\":\"Difficulty breathing\",\n",
    "        \"answer\":\"Yes\",\n",
    "        \"logic\":\"or\",\n",
    "        \"group\":0},\n",
    "    {\n",
    "        \"diagnosis\":\"Severe pneumonia or very severe disease\",\n",
    "        \"criterion\":\"Grunting\",\n",
    "        \"answer\":\"Yes\",\n",
    "        \"logic\":\"and\",\n",
    "        \"group\":1},\n",
    "    {\n",
    "        \"diagnosis\":\"Severe pneumonia or very severe disease\",\n",
    "        \"criterion\":\"Central cyanosis\",\n",
    "        \"answer\":\"Yes\",\n",
    "        \"logic\":\"or\",\n",
    "        \"group\":1},\n",
    "    {\n",
    "        \"diagnosis\":\"Severe pneumonia or very severe disease\",\n",
    "        \"criterion\":\"Hypoxaemia\",\n",
    "        \"answer\":1,\n",
    "        \"logic\":\"or\",\n",
    "        \"group\":1}\n",
    "]\n",
    "ms.addDiagnosisCriteria(mname, criteria)\n",
    "\n",
    "criteria = [\n",
    "    {\n",
    "        \"diagnosis\":\"Severe pneumonia or very severe disease\",\n",
    "        \"including_diagnosis\":\"Danger signs\",\n",
    "        \"logic\":\"or\",\n",
    "        \"group\":1}\n",
    "]\n",
    "ms.addIncludingDiagnosis(mname, criteria)"
   ]
  },
  {
   "cell_type": "markdown",
   "metadata": {},
   "source": [
    "#### Pneumonia"
   ]
  },
  {
   "cell_type": "code",
   "execution_count": 41,
   "metadata": {},
   "outputs": [],
   "source": [
    "criteria = [\n",
    "    {\n",
    "        \"diagnosis\":\"Pneumonia\",\n",
    "        \"criterion\":\"Cough\",\n",
    "        \"answer\":\"Yes\"},\n",
    "    {\n",
    "        \"diagnosis\":\"Pneumonia\",\n",
    "        \"criterion\":\"Difficulty breathing\",\n",
    "        \"answer\":\"Yes\",\n",
    "        \"logic\":\"or\",\n",
    "        \"group\":0},\n",
    "    {\n",
    "        \"diagnosis\":\"Pneumonia\",\n",
    "        \"criterion\":\"Lower chest indrawing\",\n",
    "        \"answer\":\"Yes\",\n",
    "        \"logic\":\"and\",\n",
    "        \"group\":1},\n",
    "    {\n",
    "        \"diagnosis\":\"Pneumonia\",\n",
    "        \"criterion\":\"Fast breathing\",\n",
    "        \"answer\":1,\n",
    "        \"logic\":\"or\",\n",
    "        \"group\":1}\n",
    "]\n",
    "ms.addDiagnosisCriteria(mname, criteria)"
   ]
  },
  {
   "cell_type": "markdown",
   "metadata": {},
   "source": [
    "#### Cough / cold"
   ]
  },
  {
   "cell_type": "code",
   "execution_count": 42,
   "metadata": {},
   "outputs": [],
   "source": [
    "criteria = [\n",
    "    {\n",
    "        \"diagnosis\":\"Cough / cold\",\n",
    "        \"criterion\":\"Cough\",\n",
    "        \"answer\":\"Yes\"},\n",
    "    {\n",
    "        \"diagnosis\":\"Cough / cold\",\n",
    "        \"criterion\":\"Difficulty breathing\",\n",
    "        \"answer\":\"Yes\",\n",
    "        \"logic\":\"or\",\n",
    "        \"group\":0}\n",
    "]\n",
    "ms.addDiagnosisCriteria(mname, criteria)"
   ]
  },
  {
   "cell_type": "markdown",
   "metadata": {},
   "source": [
    "#### Possible severe asthma"
   ]
  },
  {
   "cell_type": "code",
   "execution_count": 43,
   "metadata": {},
   "outputs": [],
   "source": [
    "criteria = [\n",
    "    {\n",
    "        \"diagnosis\":\"Possible severe asthma\",\n",
    "        \"criterion\":\"Wheeze\",\n",
    "        \"answer\":\"Yes\"},\n",
    "     {\n",
    "        \"diagnosis\":\"Possible severe asthma\",\n",
    "        \"criterion\":\"Unable to talk /complete sentences\",\n",
    "        \"answer\":\"Yes\",\n",
    "        \"logic\":\"and\",\n",
    "        \"group\":1},\n",
    "    {\n",
    "        \"diagnosis\":\"Possible severe asthma\",\n",
    "        \"criterion\":\"Fast pulse rate\",\n",
    "        \"answer\":1,\n",
    "        \"logic\":\"or\",\n",
    "        \"group\":1}\n",
    "]\n",
    "ms.addDiagnosisCriteria(mname, criteria)"
   ]
  },
  {
   "cell_type": "markdown",
   "metadata": {},
   "source": [
    "#### Possible moderate asthma"
   ]
  },
  {
   "cell_type": "code",
   "execution_count": 44,
   "metadata": {},
   "outputs": [],
   "source": [
    "criteria = [\n",
    "    {\n",
    "        \"diagnosis\":\"Possible moderate asthma\",\n",
    "        \"criterion\":\"Wheeze\",\n",
    "        \"answer\":\"Yes\"},\n",
    "    {\n",
    "        \"diagnosis\":\"Possible mild asthma\",\n",
    "        \"criterion\":\"Wheeze\",\n",
    "        \"answer\":\"Yes\"},\n",
    "    {\n",
    "        \"diagnosis\":\"Suspicion of foreign object in airways\",\n",
    "        \"criterion\":\"Possible inhalation / swallowing of foreign object\",\n",
    "        \"answer\":\"Yes\"},\n",
    "    {\n",
    "        \"diagnosis\":\"Severe croup\",\n",
    "        \"criterion\":\"Stridor at rest\",\n",
    "        \"answer\":\"Yes\"},\n",
    "    {\n",
    "        \"diagnosis\":\"Severe croup\",\n",
    "        \"criterion\":\"Possible inhalation / swallowing of foreign object\",\n",
    "        \"answer\":\"No\",\n",
    "        \"logic\":\"and\",\n",
    "        \"group\":0}\n",
    "]\n",
    "ms.addDiagnosisCriteria(mname,criteria)"
   ]
  },
  {
   "cell_type": "markdown",
   "metadata": {},
   "source": [
    "#### Mild croup"
   ]
  },
  {
   "cell_type": "code",
   "execution_count": 45,
   "metadata": {},
   "outputs": [],
   "source": [
    "criteria = [\n",
    "    {\n",
    "        \"diagnosis\":\"Mild croup\",\n",
    "        \"criterion\":\"Cough\",\n",
    "        \"answer\":\"Yes\"},\n",
    "    {\n",
    "        \"diagnosis\":\"Mild croup\",\n",
    "        \"criterion\":\"Difficulty breathing\",\n",
    "        \"answer\":\"Yes\",\n",
    "        \"logic\":\"or\",\n",
    "        \"group\":0},\n",
    "    {\n",
    "        \"diagnosis\":\"Mild croup\",\n",
    "        \"criterion\":\"Stridor\",\n",
    "        \"answer\":\"Yes\",\n",
    "        \"logic\":\"and\",\n",
    "        \"group\":1},\n",
    "    {\n",
    "        \"diagnosis\":\"Mild croup\",\n",
    "        \"criterion\":\"Barking cough\",\n",
    "        \"answer\":\"Yes\",\n",
    "        \"logic\":\"or\",\n",
    "        \"group\":1}\n",
    "]\n",
    "ms.addDiagnosisCriteria(mname,criteria)"
   ]
  },
  {
   "cell_type": "markdown",
   "metadata": {},
   "source": [
    "#### Hemoptysis"
   ]
  },
  {
   "cell_type": "code",
   "execution_count": 46,
   "metadata": {},
   "outputs": [],
   "source": [
    "criteria = [\n",
    "    {\n",
    "        \"diagnosis\":\"Hemoptysis\",\n",
    "        \"criterion\":\"Cough\",\n",
    "        \"answer\":\"Yes\"},\n",
    "    {\n",
    "        \"diagnosis\":\"Hemoptysis\",\n",
    "        \"criterion\":\"Difficulty breathing\",\n",
    "        \"answer\":\"Yes\",\n",
    "        \"logic\":\"or\",\n",
    "        \"group\":0},\n",
    "    {\n",
    "        \"diagnosis\":\"Hemoptysis\",\n",
    "        \"criterion\":\"Respiratory symptoms < 2 weeks\",\n",
    "        \"answer\":1,\n",
    "        \"logic\":\"and\",\n",
    "        \"group\":1},\n",
    "    {\n",
    "        \"diagnosis\":\"Hemoptysis\",\n",
    "        \"criterion\":\"Significant haemoptysis\",\n",
    "        \"answer\":\"Yes\",\n",
    "        \"logic\":\"and\",\n",
    "        \"group\":2},\n",
    "]\n",
    "ms.addDiagnosisCriteria(mname,criteria)"
   ]
  },
  {
   "cell_type": "markdown",
   "metadata": {},
   "source": [
    "#### Suspicion of TB"
   ]
  },
  {
   "cell_type": "code",
   "execution_count": 47,
   "metadata": {},
   "outputs": [],
   "source": [
    "criteria = [\n",
    "    {\n",
    "        \"diagnosis\":\"Suspicion of tuberculosis\",\n",
    "        \"criterion\":\"Cough\",\n",
    "        \"answer\":\"Yes\"},\n",
    "    {\n",
    "        \"diagnosis\":\"Suspicion of tuberculosis\",\n",
    "        \"criterion\":\"Difficulty breathing\",\n",
    "        \"answer\":\"Yes\",\n",
    "        \"logic\":\"or\",\n",
    "        \"group\":0},\n",
    "    {\n",
    "        \"diagnosis\":\"Suspicion of tuberculosis\",\n",
    "        \"criterion\":\"Respiratory symptoms < 2 weeks\",\n",
    "        \"answer\":0,\n",
    "        \"logic\":\"and\",\n",
    "        \"group\":1}\n",
    "]\n",
    "ms.addDiagnosisCriteria(mname,criteria)"
   ]
  },
  {
   "cell_type": "code",
   "execution_count": 48,
   "metadata": {},
   "outputs": [],
   "source": [
    "respiratory_diseases_calculations = [\n",
    "    \"Severe pneumonia or very severe disease\",\n",
    "    \"Pneumonia\",\n",
    "    \"Cough / cold\",\n",
    "    \"Possible severe asthma\",\n",
    "    \"Possible moderate asthma\",\n",
    "    \"Possible mild asthma\",\n",
    "    \"Suspicion of foreign object in airways\",\n",
    "    \"Severe croup\",\n",
    "    \"Mild croup\",\n",
    "    \"Hemoptysis\",\n",
    "    \"Suspicion of tuberculosis\"\n",
    "]\n",
    "ms.getModule(mname).addDiagnosisCalculationSubModule()\n",
    "for k in respiratory_diseases_calculations:\n",
    "    ms.getModule(mname).getCalculationSubModules()[-1].addQuestion(ms.getDiagnoses().getItem(k).getLabel())"
   ]
  },
  {
   "cell_type": "markdown",
   "metadata": {},
   "source": [
    "## Ear / Nose / Throat / Mouth module"
   ]
  },
  {
   "cell_type": "code",
   "execution_count": 49,
   "metadata": {},
   "outputs": [],
   "source": [
    "ent_questions = [\n",
    "    \"Mouth lesion\",\n",
    "    \"Epistaxis\"\n",
    "]"
   ]
  },
  {
   "cell_type": "code",
   "execution_count": 50,
   "metadata": {},
   "outputs": [],
   "source": [
    "mname = \"Ear / Nose / Throat / Mouth problems\"\n",
    "ms.addModule(mname, ms.getHeader()[\"Consultation\"])"
   ]
  },
  {
   "cell_type": "code",
   "execution_count": 51,
   "metadata": {},
   "outputs": [],
   "source": [
    "top_conditions = [\n",
    "    {\n",
    "        \"child\":\"Ear / Nose / Throat / Mouth problems\",\n",
    "        \"parent\":\"Ear problem\",\n",
    "        \"answer\":\"Yes\"},\n",
    "    {\n",
    "        \"child\":\"Ear / Nose / Throat / Mouth problems\",\n",
    "        \"parent\":\"Significant haemoptysis\",\n",
    "        \"answer\":\"Yes\",\n",
    "        \"logic\":\"or\",\n",
    "        \"group\":1}\n",
    "    ]\n",
    "ms.addModuleTopConditions(top_conditions)"
   ]
  },
  {
   "cell_type": "code",
   "execution_count": 52,
   "metadata": {},
   "outputs": [],
   "source": [
    "smname = \"Symptoms and signs\"\n",
    "ms.addTableSubModule(smname, mname)\n",
    "for k in ent_questions:\n",
    "    ms.getSubModule(smname).addQuestion(k)"
   ]
  },
  {
   "cell_type": "markdown",
   "metadata": {},
   "source": [
    "## Skin module"
   ]
  },
  {
   "cell_type": "markdown",
   "metadata": {},
   "source": [
    "## Gastro-intestinal problem module"
   ]
  },
  {
   "cell_type": "code",
   "execution_count": 53,
   "metadata": {},
   "outputs": [],
   "source": [
    "mname = \"Gastro-intestinal problems\"\n",
    "ms.addModule(mname, ms.getHeader()[\"Consultation\"])\n",
    "ms.getModule(mname).addQuestion(\"Number of loose or liquid stools over the last 24 hours\")"
   ]
  },
  {
   "cell_type": "code",
   "execution_count": 54,
   "metadata": {},
   "outputs": [],
   "source": [
    "top_conditions = [\n",
    "    {\n",
    "        \"child\":\"Gastro-intestinal problems\",\n",
    "        \"parent\":\"Diarrhoea\",\n",
    "        \"answer\":\"Yes\"}\n",
    "    ]\n",
    "ms.addModuleTopConditions(top_conditions)"
   ]
  },
  {
   "cell_type": "code",
   "execution_count": 55,
   "metadata": {},
   "outputs": [],
   "source": [
    "top_conditions = [\n",
    "    {\n",
    "        \"child\":\"Number of loose or liquid stools over the last 24 hours\",\n",
    "        \"parent\":\"Diarrhoea\",\n",
    "        \"answer\":\"Yes\"}\n",
    "    ]\n",
    "ms.addQuestionTopConditions(top_conditions)"
   ]
  },
  {
   "cell_type": "markdown",
   "metadata": {},
   "source": [
    "# Test assessment module"
   ]
  },
  {
   "cell_type": "markdown",
   "metadata": {},
   "source": [
    "# Diagnosis module"
   ]
  },
  {
   "cell_type": "code",
   "execution_count": 56,
   "metadata": {},
   "outputs": [],
   "source": [
    "excluding_diagnoses = [\n",
    "    {\n",
    "        \"diagnosis\":\"Pneumonia\",\n",
    "        \"excluding_diagnosis\":\"Severe pneumonia or very severe disease\",\n",
    "        \"logic\":\"and\",\n",
    "        \"group\":51},\n",
    "    {\n",
    "        \"diagnosis\":\"Danger signs\",\n",
    "        \"excluding_diagnosis\":\"Severe pneumonia or very severe disease\",\n",
    "        \"logic\":\"and\",\n",
    "        \"group\":51},\n",
    "    {\n",
    "        \"diagnosis\":\"Cough / cold\",\n",
    "        \"excluding_diagnosis\":\"Severe pneumonia or very severe disease\",\n",
    "        \"logic\":\"and\",\n",
    "        \"group\":51},\n",
    "    {\n",
    "        \"diagnosis\":\"Cough / cold\",\n",
    "        \"excluding_diagnosis\":\"Pneumonia\",\n",
    "        \"logic\":\"and\",\n",
    "        \"group\":52},\n",
    "    {\n",
    "        \"diagnosis\":\"Possible mild asthma\",\n",
    "        \"excluding_diagnosis\":\"Possible severe asthma\",\n",
    "        \"logic\":\"and\",\n",
    "        \"group\":51},\n",
    "    {\n",
    "        \"diagnosis\":\"Possible moderate asthma\",\n",
    "        \"excluding_diagnosis\":\"Possible severe asthma\",\n",
    "        \"logic\":\"and\",\n",
    "        \"group\":51},\n",
    "     {\n",
    "        \"diagnosis\":\"Possible mild asthma\",\n",
    "        \"excluding_diagnosis\":\"Possible moderate asthma\",\n",
    "        \"logic\":\"and\",\n",
    "        \"group\":52},\n",
    "    {\n",
    "        \"diagnosis\":\"Mild croup\",\n",
    "        \"excluding_diagnosis\":\"Severe croup\",\n",
    "        \"logic\":\"and\",\n",
    "        \"group\":51}\n",
    "]"
   ]
  },
  {
   "cell_type": "code",
   "execution_count": 57,
   "metadata": {},
   "outputs": [],
   "source": [
    "mname = \"Diagnosis calculations\"\n",
    "ms.addDiagnosisCalculations(mname)\n",
    "ms.addExcludingDiagnosis(mname,excluding_diagnoses)\n",
    "for k in ms.getDiagnoses().get().keys():\n",
    "    ms.getModule(mname).addQuestion(k)\n",
    "\n",
    "mname = \"Diagnoses\"\n",
    "ms.addDiagnosisModule(mname)"
   ]
  },
  {
   "cell_type": "markdown",
   "metadata": {},
   "source": [
    "<h1><span style=\"color:#495d83\">Management module</span></h1>"
   ]
  },
  {
   "cell_type": "code",
   "execution_count": 58,
   "metadata": {},
   "outputs": [],
   "source": [
    "diagnosis_managements = [\n",
    "    {\n",
    "        \"mgt\":\"Urgent referral\",\n",
    "        \"diagnosis\":\"Danger signs\"},\n",
    "    {\n",
    "        \"mgt\":\"Urgent referral\",\n",
    "        \"diagnosis\":\"Severe pneumonia or very severe disease\"},\n",
    "    {\n",
    "        \"mgt\":\"Admission / referral IF\",\n",
    "        \"diagnosis\":\"Pneumonia\"},\n",
    "    {\n",
    "        \"mgt\":\"Urgent referral\",\n",
    "        \"diagnosis\":\"Possible severe asthma\"},\n",
    "    {\n",
    "        \"mgt\":\"Admission / referral IF\",\n",
    "        \"diagnosis\":\"Possible moderate asthma\"},\n",
    "    {\n",
    "        \"mgt\":\"First line treatment\",\n",
    "        \"diagnosis\":\"Possible mild asthma\"},\n",
    "    {\n",
    "        \"mgt\":\"Urgent referral\",\n",
    "        \"diagnosis\":\"Suspicion of foreign object in airways\"},\n",
    "    {\n",
    "        \"mgt\":\"Urgent referral\",\n",
    "        \"diagnosis\":\"Severe croup\"},\n",
    "    {\n",
    "        \"mgt\":\"First line treatment\",\n",
    "        \"diagnosis\":\"Mild croup\"},\n",
    "    {\n",
    "        \"mgt\":\"Second line treatment\",\n",
    "        \"diagnosis\":\"Mild croup\"},\n",
    "    {\n",
    "        \"mgt\":\"Non-urgent referral\",\n",
    "        \"diagnosis\":\"Mild croup\"},\n",
    "    {\n",
    "        \"mgt\":\"Admission / referral IF\",\n",
    "        \"diagnosis\":\"Possible malaria\"}\n",
    "]\n",
    "ms.addDiagnosisManagement(mname, diagnosis_managements)"
   ]
  },
  {
   "cell_type": "code",
   "execution_count": 59,
   "metadata": {},
   "outputs": [],
   "source": [
    "excluding_managements = [\n",
    "    {\n",
    "        \"mgt\":\"Non-urgent referral\",\n",
    "        \"excluding_mgt\":\"Urgent referral\",\n",
    "        \"logic\":\"and\",\n",
    "        \"group\":11},\n",
    "    {\n",
    "        \"mgt\":\"Admission / referral IF\",\n",
    "        \"excluding_mgt\":\"Urgent referral\",\n",
    "        \"logic\":\"and\",\n",
    "        \"group\":11},\n",
    "    {\n",
    "        \"mgt\":\"Second line treatment\",\n",
    "        \"excluding_mgt\":\"First line treatment\",\n",
    "        \"logic\":\"and\",\n",
    "        \"group\":11},\n",
    "]"
   ]
  },
  {
   "cell_type": "code",
   "execution_count": 60,
   "metadata": {},
   "outputs": [],
   "source": [
    "mname = \"Management calculations\"\n",
    "ms.addManagementCalculations(mname)\n",
    "ms.addExcludingManagement(mname,excluding_managements)\n",
    "for k in ms.getManagements().get().keys():\n",
    "    ms.getModule(mname).addQuestion(k)"
   ]
  },
  {
   "cell_type": "code",
   "execution_count": 61,
   "metadata": {},
   "outputs": [],
   "source": [
    "top_conditions = [\n",
    "    {\n",
    "        \"child\":\"Admission / referral IF\",\n",
    "        \"parent\":\"Urgent referral\",\n",
    "        \"answer\":\"Not possible\",\n",
    "        \"logic\":\"or\",\n",
    "        \"group\":0},\n",
    "    {\n",
    "        \"child\":\"First line treatment\",\n",
    "        \"parent\":\"Admission / referral IF\",\n",
    "        \"answer\":\"Not possible\",\n",
    "        \"logic\":\"or\",\n",
    "        \"group\":0},\n",
    "    {\n",
    "        \"child\":\"Second line treatment\",\n",
    "        \"parent\":\"First line treatment\",\n",
    "        \"answer\":\"Not possible\",\n",
    "        \"logic\":\"or\",\n",
    "        \"group\":0}\n",
    "    ]\n",
    "ms.addManagementTopConditions(top_conditions)"
   ]
  },
  {
   "cell_type": "code",
   "execution_count": 62,
   "metadata": {},
   "outputs": [],
   "source": [
    "mname = \"Management\"\n",
    "ms.addManagementModule(mname)"
   ]
  },
  {
   "cell_type": "markdown",
   "metadata": {},
   "source": [
    "<h1><span style=\"color:#495d83\">Treatment module</span></h1>"
   ]
  },
  {
   "cell_type": "markdown",
   "metadata": {},
   "source": [
    "<h2><span style=\"color:#ed8a78\">Oxygen</span></h2>"
   ]
  },
  {
   "cell_type": "code",
   "execution_count": 63,
   "metadata": {},
   "outputs": [],
   "source": [
    "treatments = [\n",
    "    {\n",
    "        \"treatment\":\"Oxygen\",\n",
    "        \"criterion\":\"Hypoxaemia\",\n",
    "        \"answer\":1}\n",
    "]\n",
    "ms.addTreatment2Criterion(mname, treatments)"
   ]
  },
  {
   "cell_type": "markdown",
   "metadata": {},
   "source": [
    "<h2><span style=\"color:#ed8a78\">Severe pneumonia or very severe disease</span></h2>"
   ]
  },
  {
   "cell_type": "code",
   "execution_count": 64,
   "metadata": {},
   "outputs": [],
   "source": [
    "treatments = [\n",
    "    {\n",
    "        \"treatment\":\"Benzylpenicillin\",\n",
    "        \"diagnosis\":\"Severe pneumonia or very severe disease\"},\n",
    "    {\n",
    "        \"treatment\":\"Gentamicin\",\n",
    "        \"diagnosis\":\"Severe pneumonia or very severe disease\"},\n",
    "    {\n",
    "        \"treatment\":\"Treat for / prevent low blood sugar\",\n",
    "        \"diagnosis\":\"Severe pneumonia or very severe disease\"},\n",
    "    {\n",
    "        \"treatment\":\"Keep warm\",\n",
    "        \"diagnosis\":\"Severe pneumonia or very severe disease\"}\n",
    "]\n",
    "ms.addTreatment2Diagnosis(mname, treatments)"
   ]
  },
  {
   "cell_type": "markdown",
   "metadata": {},
   "source": [
    "<h2><span style=\"color:#ed8a78\">Pneumonia</span></h2>"
   ]
  },
  {
   "cell_type": "code",
   "execution_count": 65,
   "metadata": {},
   "outputs": [],
   "source": [
    "treatments = [\n",
    "    {\n",
    "        \"treatment\":\"Amoxicillin DT\",\n",
    "        \"diagnosis\":\"Pneumonia\"},\n",
    "    {\n",
    "        \"treatment\":\"Vitamin A\",\n",
    "        \"diagnosis\":\"Pneumonia\"},\n",
    "    {\n",
    "        \"treatment\":\"Soothe throat / relieve cough\",\n",
    "        \"diagnosis\":\"Pneumonia\"},\n",
    "    {\n",
    "        \"treatment\":\"Return advice\",\n",
    "        \"diagnosis\":\"Pneumonia\"}\n",
    "]\n",
    "ms.addTreatment2Diagnosis(mname, treatments)"
   ]
  },
  {
   "cell_type": "markdown",
   "metadata": {},
   "source": [
    "<h2><span style=\"color:#ed8a78\">Cough / cold</span></h2>"
   ]
  },
  {
   "cell_type": "code",
   "execution_count": 66,
   "metadata": {},
   "outputs": [],
   "source": [
    "treatments = [\n",
    "    {\n",
    "        \"treatment\":\"Soothe throat / relieve cough\",\n",
    "        \"diagnosis\":\"Cough / cold\"},\n",
    "    {\n",
    "        \"treatment\":\"Return advice\",\n",
    "        \"diagnosis\":\"Cough / cold\"}\n",
    "]\n",
    "ms.addTreatment2Diagnosis(mname, treatments)"
   ]
  },
  {
   "cell_type": "markdown",
   "metadata": {},
   "source": [
    "<h2><span style=\"color:#ed8a78\">Possible mild asthma</span></h2>"
   ]
  },
  {
   "cell_type": "code",
   "execution_count": 67,
   "metadata": {},
   "outputs": [],
   "source": [
    "treatments = [\n",
    "    {\n",
    "        \"treatment\":\"Soothe throat / relieve cough\",\n",
    "        \"diagnosis\":\"Possible mild asthma\"},\n",
    "    {\n",
    "        \"treatment\":\"Return advice\",\n",
    "        \"diagnosis\":\"Possible mild asthma\"}\n",
    "]\n",
    "ms.addTreatment2Diagnosis(mname, treatments)"
   ]
  },
  {
   "cell_type": "markdown",
   "metadata": {},
   "source": [
    "<h2><span style=\"color:#ed8a78\">Severe croup</span></h2>"
   ]
  },
  {
   "cell_type": "code",
   "execution_count": 68,
   "metadata": {},
   "outputs": [],
   "source": [
    "treatments = [\n",
    "    {\n",
    "        \"treatment\":\"Prednisolone\",\n",
    "        \"diagnosis\":\"Severe croup\",\n",
    "        \"dose\":\"2mg/kg\"},\n",
    "    {\n",
    "        \"treatment\":\"Avoid agitation\",\n",
    "        \"diagnosis\":\"Severe croup\"}\n",
    "]\n",
    "ms.addTreatment2Diagnosis(mname, treatments)"
   ]
  },
  {
   "cell_type": "markdown",
   "metadata": {},
   "source": [
    "<h2><span style=\"color:#ed8a78\">Mild croup</span></h2>"
   ]
  },
  {
   "cell_type": "code",
   "execution_count": 69,
   "metadata": {},
   "outputs": [],
   "source": [
    "treatments = [\n",
    "    {\n",
    "        \"treatment\":\"Soothe throat / relieve cough\",\n",
    "        \"diagnosis\":\"Mild croup\"},\n",
    "    {\n",
    "        \"treatment\":\"Return advice\",\n",
    "        \"diagnosis\":\"Mild croup\"}\n",
    "]\n",
    "ms.addTreatment2Diagnosis(mname, treatments)"
   ]
  },
  {
   "cell_type": "markdown",
   "metadata": {},
   "source": [
    "<h2><span style=\"color:#ed8a78\">Hemoptysis</span></h2>"
   ]
  },
  {
   "cell_type": "code",
   "execution_count": 70,
   "metadata": {},
   "outputs": [],
   "source": [
    "treatments = [\n",
    "    {\n",
    "        \"treatment\":\"Soothe throat / relieve cough\",\n",
    "        \"diagnosis\":\"Hemoptysis\"},\n",
    "    {\n",
    "        \"treatment\":\"Return advice\",\n",
    "        \"diagnosis\":\"Hemoptysis\"}\n",
    "]\n",
    "ms.addTreatment2Diagnosis(mname, treatments)"
   ]
  },
  {
   "cell_type": "code",
   "execution_count": 71,
   "metadata": {},
   "outputs": [],
   "source": [
    "mname = \"Treatment calculations\"\n",
    "ms.addTreatmentCalculations(mname)\n",
    "for k in ms.getTreatments().get().keys():\n",
    "    ms.getModule(mname).addQuestion(k)"
   ]
  },
  {
   "cell_type": "code",
   "execution_count": 72,
   "metadata": {},
   "outputs": [],
   "source": [
    "mname = \"Treatments\"\n",
    "ms.addTreatmentModule(mname)"
   ]
  },
  {
   "cell_type": "markdown",
   "metadata": {},
   "source": [
    "## Summary module"
   ]
  },
  {
   "cell_type": "code",
   "execution_count": 73,
   "metadata": {},
   "outputs": [],
   "source": [
    "mname = \"Summary\"\n",
    "ms.addModule(mname)\n",
    "smname = \"Main symptoms\"\n",
    "ms.addSubModule(smname, mname)\n",
    "smname = \"Diagnoses\"\n",
    "ms.addSubModule(smname, mname)\n",
    "smname = \"Managements\"\n",
    "ms.addSubModule(smname, mname)\n",
    "smname = \"Treatments\"\n",
    "ms.addSubModule(smname, mname)"
   ]
  },
  {
   "cell_type": "code",
   "execution_count": 74,
   "metadata": {},
   "outputs": [
    {
     "name": "stdout",
     "output_type": "stream",
     "text": [
      "Registration\n",
      "<class 'clinical_algorithm.RegistrationModule'>\n",
      "First look assessment\n",
      "<class 'clinical_algorithm.ConsultationModule'>\n",
      "Basic measurements\n",
      "<class 'clinical_algorithm.ConsultationModule'>\n",
      "Respiratory problems\n",
      "<class 'clinical_algorithm.ConsultationModule'>\n",
      "Ear / Nose / Throat / Mouth problems\n",
      "<class 'clinical_algorithm.ConsultationModule'>\n",
      "Gastro-intestinal problems\n",
      "<class 'clinical_algorithm.ConsultationModule'>\n",
      "Diagnosis calculations\n",
      "<class 'clinical_algorithm.DiagnosisCalculationModule'>\n",
      "Diagnoses\n",
      "<class 'clinical_algorithm.Module'>\n",
      "Management calculations\n",
      "<class 'clinical_algorithm.ManagementCalculationModule'>\n",
      "Management\n",
      "<class 'clinical_algorithm.Module'>\n",
      "Treatment calculations\n",
      "<class 'clinical_algorithm.TreatmentCalculationModule'>\n",
      "Treatments\n",
      "<class 'clinical_algorithm.Module'>\n",
      "Summary\n",
      "<class 'clinical_algorithm.ConsultationModule'>\n"
     ]
    }
   ],
   "source": [
    "ms.ODKExport(path)"
   ]
  },
  {
   "cell_type": "code",
   "execution_count": null,
   "metadata": {},
   "outputs": [],
   "source": []
  }
 ],
 "metadata": {
  "kernelspec": {
   "display_name": "Python 3",
   "language": "python",
   "name": "python3"
  },
  "language_info": {
   "codemirror_mode": {
    "name": "ipython",
    "version": 3
   },
   "file_extension": ".py",
   "mimetype": "text/x-python",
   "name": "python",
   "nbconvert_exporter": "python",
   "pygments_lexer": "ipython3",
   "version": "3.7.7"
  }
 },
 "nbformat": 4,
 "nbformat_minor": 4
}
